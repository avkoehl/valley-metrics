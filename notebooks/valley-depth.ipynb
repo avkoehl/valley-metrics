{
 "cells": [
  {
   "cell_type": "markdown",
   "id": "9bd53f0d-a8f0-48ce-86e2-6632a9329a2e",
   "metadata": {},
   "source": [
    "## Testing measures of valley depth\n",
    "\n",
    "1. Saga valley depth (use saga python api - \"https://sourceforge.net/p/saga-gis/wiki/Executing%20SAGA%20Modules%20with%20the%20Python%20Interface/\")\n",
    "2. custom\n",
    "    + Detect ridge pixels (flow accumulation = 0, or that matlib library that does ridge network analysis, or the ridge network from saga valley depth module\\'s method, or potential whiteboxtools method)\n",
    "    + for each pixel in the river network, get its catchment id, and then find the nearest ridge point for all the hillslope ids in its neighborhood and the valley depth is thus the mean of the differences between the different peak dem values and the river pixel dem value.\n"
   ]
  },
  {
   "cell_type": "code",
   "execution_count": 4,
   "id": "660bdc3c-535f-4f11-b432-a8e66957af18",
   "metadata": {},
   "outputs": [],
   "source": [
    "# load river network and dem"
   ]
  },
  {
   "cell_type": "code",
   "execution_count": null,
   "id": "87f96fac-5ab2-46ce-a720-95539e061cdf",
   "metadata": {},
   "outputs": [],
   "source": []
  }
 ],
 "metadata": {
  "kernelspec": {
   "display_name": "valley-metrics",
   "language": "python",
   "name": "valley-metrics"
  },
  "language_info": {
   "codemirror_mode": {
    "name": "ipython",
    "version": 3
   },
   "file_extension": ".py",
   "mimetype": "text/x-python",
   "name": "python",
   "nbconvert_exporter": "python",
   "pygments_lexer": "ipython3",
   "version": "3.10.8"
  }
 },
 "nbformat": 4,
 "nbformat_minor": 5
}
