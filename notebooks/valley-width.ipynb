{
 "cells": [
  {
   "cell_type": "code",
   "execution_count": null,
   "id": "7e5920d8-755f-4f6b-92e1-e20a6acc4675",
   "metadata": {},
   "outputs": [],
   "source": [
    "voronoi\n",
    "greg's method\n",
    "line segments at every 10 degrees"
   ]
  }
 ],
 "metadata": {
  "kernelspec": {
   "display_name": "valley-metrics",
   "language": "python",
   "name": "valley-metrics"
  },
  "language_info": {
   "codemirror_mode": {
    "name": "ipython",
    "version": 3
   },
   "file_extension": ".py",
   "mimetype": "text/x-python",
   "name": "python",
   "nbconvert_exporter": "python",
   "pygments_lexer": "ipython3",
   "version": "3.10.8"
  }
 },
 "nbformat": 4,
 "nbformat_minor": 5
}
